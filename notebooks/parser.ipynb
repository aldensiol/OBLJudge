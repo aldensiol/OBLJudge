{
 "cells": [
  {
   "cell_type": "code",
   "execution_count": 1,
   "id": "f0a507d7",
   "metadata": {},
   "outputs": [],
   "source": [
    "import os\n",
    "os.chdir(\"..\")"
   ]
  },
  {
   "cell_type": "code",
   "execution_count": 2,
   "id": "06dec407",
   "metadata": {},
   "outputs": [],
   "source": [
    "from src.parser import BloggerParser"
   ]
  },
  {
   "cell_type": "code",
   "execution_count": null,
   "id": "7af675ad",
   "metadata": {},
   "outputs": [],
   "source": [
    "alden_parser = BloggerParser(os.getenv(\"ALDEN_BLOG_ID\"))\n",
    "javier_parser = BloggerParser(os.getenv(\"JAVIER_BLOG_ID\"))\n",
    "ch_blog_parser = BloggerParser(os.getenv(\"CH_BLOG_ID\"))\n",
    "jf_parser = BloggerParser(os.getenv(\"JF_BLOG_ID\"))\n",
    "celine_parser = BloggerParser(os.getenv(\"CELINE_BLOG_ID\"))\n",
    "je_parser = BloggerParser(os.getenv(\"JE_BLOG_ID\"))"
   ]
  },
  {
   "cell_type": "code",
   "execution_count": null,
   "id": "ca67a92b",
   "metadata": {},
   "outputs": [],
   "source": []
  }
 ],
 "metadata": {
  "kernelspec": {
   "display_name": "OBLJudge",
   "language": "python",
   "name": "python3"
  },
  "language_info": {
   "codemirror_mode": {
    "name": "ipython",
    "version": 3
   },
   "file_extension": ".py",
   "mimetype": "text/x-python",
   "name": "python",
   "nbconvert_exporter": "python",
   "pygments_lexer": "ipython3",
   "version": "3.12.0"
  }
 },
 "nbformat": 4,
 "nbformat_minor": 5
}
