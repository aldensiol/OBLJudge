{
 "cells": [
  {
   "cell_type": "code",
   "execution_count": 1,
   "id": "115f7a08",
   "metadata": {},
   "outputs": [],
   "source": [
    "import os\n",
    "os.chdir(\"..\")"
   ]
  },
  {
   "cell_type": "code",
   "execution_count": 2,
   "id": "a41eb4f7",
   "metadata": {},
   "outputs": [],
   "source": [
    "from src.agents import JudgeAgent\n",
    "from src.parser import BloggerParser"
   ]
  },
  {
   "cell_type": "code",
   "execution_count": 3,
   "id": "51554232",
   "metadata": {},
   "outputs": [],
   "source": [
    "judge = JudgeAgent()\n",
    "parser = BloggerParser()\n",
    "\n",
    "alden_id, javier_id, ch_blog_id, jf_id, celine_id, je_id = (\n",
    "    os.getenv(\"ALDEN_BLOG_ID\"),\n",
    "    os.getenv(\"JAVIER_BLOG_ID\"),\n",
    "    os.getenv(\"CH_BLOG_ID\"),\n",
    "    os.getenv(\"JF_BLOG_ID\"),\n",
    "    os.getenv(\"CELINE_BLOG_ID\"),\n",
    "    os.getenv(\"JE_BLOG_ID\"),\n",
    ")"
   ]
  },
  {
   "cell_type": "code",
   "execution_count": null,
   "id": "ffac10ee",
   "metadata": {},
   "outputs": [
    {
     "name": "stderr",
     "output_type": "stream",
     "text": [
      "2025-10-31 13:57:11,605 - [BloggerParser] - INFO - Processing blog: Man Utd Keeper Situation: Onana Under Fire, Bayindir Unreliable, Lammens in the Frame\n",
      "2025-10-31 13:57:11,606 - [ArticleCrawler] - INFO - scraping article from: https://www.espn.com/soccer/story/_/id/46039902/man-united-goalkeeper-woes-onana-bayindir-replaced-premier-league?utm_source=chatgpt.com\n"
     ]
    }
   ],
   "source": [
    "res = await parser.process_all_blogs(\n",
    "    [\n",
    "        (\"je\", je_id),\n",
    "        (\"alden\", alden_id),\n",
    "        (\"javier\", javier_id),\n",
    "        (\"ch_blog\", ch_blog_id),\n",
    "        (\"jf\", jf_id),\n",
    "        (\"celine\", celine_id),\n",
    "    ]\n",
    ")"
   ]
  },
  {
   "cell_type": "code",
   "execution_count": null,
   "id": "5d788d38",
   "metadata": {},
   "outputs": [],
   "source": [
    "res"
   ]
  },
  {
   "cell_type": "code",
   "execution_count": null,
   "id": "0e852971",
   "metadata": {},
   "outputs": [],
   "source": [
    "parser.save(res)"
   ]
  },
  {
   "cell_type": "code",
   "execution_count": null,
   "id": "79ec9728",
   "metadata": {},
   "outputs": [],
   "source": []
  }
 ],
 "metadata": {
  "kernelspec": {
   "display_name": "obljudge",
   "language": "python",
   "name": "python3"
  },
  "language_info": {
   "codemirror_mode": {
    "name": "ipython",
    "version": 3
   },
   "file_extension": ".py",
   "mimetype": "text/x-python",
   "name": "python",
   "nbconvert_exporter": "python",
   "pygments_lexer": "ipython3",
   "version": "3.12.0"
  }
 },
 "nbformat": 4,
 "nbformat_minor": 5
}
