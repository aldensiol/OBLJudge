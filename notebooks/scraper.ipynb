{
 "cells": [
  {
   "cell_type": "code",
   "execution_count": 1,
   "id": "90aaac5f",
   "metadata": {},
   "outputs": [],
   "source": [
    "import os\n",
    "os.chdir(\"..\")"
   ]
  },
  {
   "cell_type": "code",
   "execution_count": 2,
   "id": "3461a273",
   "metadata": {},
   "outputs": [],
   "source": [
    "from src.tools.article import ArticleCrawler"
   ]
  },
  {
   "cell_type": "code",
   "execution_count": 3,
   "id": "734b2677",
   "metadata": {},
   "outputs": [],
   "source": [
    "crawler = ArticleCrawler()"
   ]
  },
  {
   "cell_type": "code",
   "execution_count": 4,
   "id": "2487fe9b",
   "metadata": {},
   "outputs": [
    {
     "name": "stderr",
     "output_type": "stream",
     "text": [
      "2025-10-28 12:36:10,006 - [ArticleCrawler] - INFO - scraping article from: https://www.manutd.com/en/news/detail/andre-onana-agrees-season-long-loan-move-to-trabzonspor\n",
      "2025-10-28 12:36:10,364 - [ArticleCrawler] - INFO - extracted - title: Loan news: Onana joins Trabzonspor, publish: 2025-09-11T20:30:00+01:00, update: 2025-09-11T22:13:04+01:00\n"
     ]
    }
   ],
   "source": [
    "res = crawler.scrape_article(\"https://www.manutd.com/en/news/detail/andre-onana-agrees-season-long-loan-move-to-trabzonspor\")"
   ]
  },
  {
   "cell_type": "code",
   "execution_count": 5,
   "id": "361dc629",
   "metadata": {},
   "outputs": [
    {
     "data": {
      "text/plain": [
       "{'url': 'https://www.manutd.com/en/news/detail/andre-onana-agrees-season-long-loan-move-to-trabzonspor',\n",
       " 'publish_date': '2025-09-11T20:30:00+01:00',\n",
       " 'update_date': '2025-09-11T22:13:04+01:00',\n",
       " 'content': 'Onana played 50 times in his second campaign and our no.24 has now agreed a loan move to Trabzonspor.\\n\\nThe move has been completed ahead of the Turkish transfer window closing on Friday. We would like to wish Andre good luck.',\n",
       " 'title': 'Loan news: Onana joins Trabzonspor',\n",
       " 'authors': []}"
      ]
     },
     "execution_count": 5,
     "metadata": {},
     "output_type": "execute_result"
    }
   ],
   "source": [
    "res"
   ]
  },
  {
   "cell_type": "code",
   "execution_count": null,
   "id": "d0cbfd8c",
   "metadata": {},
   "outputs": [],
   "source": []
  }
 ],
 "metadata": {
  "kernelspec": {
   "display_name": "OBLJudge",
   "language": "python",
   "name": "python3"
  },
  "language_info": {
   "codemirror_mode": {
    "name": "ipython",
    "version": 3
   },
   "file_extension": ".py",
   "mimetype": "text/x-python",
   "name": "python",
   "nbconvert_exporter": "python",
   "pygments_lexer": "ipython3",
   "version": "3.12.0"
  }
 },
 "nbformat": 4,
 "nbformat_minor": 5
}
